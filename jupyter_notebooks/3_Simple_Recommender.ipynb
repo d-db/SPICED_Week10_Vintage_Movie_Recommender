{
 "cells": [
  {
   "cell_type": "code",
   "execution_count": 1,
   "metadata": {
    "collapsed": true
   },
   "outputs": [],
   "source": [
    "import random\n",
    "\n",
    "import numpy as np\n",
    "import pandas as pd\n",
    "import pickle\n",
    "import random\n",
    "\n",
    "# ignore NMF warnings\n",
    "import warnings\n",
    "warnings.filterwarnings(\"ignore\")"
   ]
  },
  {
   "cell_type": "code",
   "execution_count": 2,
   "outputs": [],
   "source": [
    "with open('./data/movie_dict.bin', 'rb') as f:\n",
    "    movie_dict = pickle.load(f)"
   ],
   "metadata": {
    "collapsed": false
   }
  },
  {
   "cell_type": "code",
   "execution_count": 3,
   "outputs": [],
   "source": [
    "with open('./data/more_than_100.bin', 'rb') as f:\n",
    "    more_than_100 = pickle.load(f)"
   ],
   "metadata": {
    "collapsed": false
   }
  },
  {
   "cell_type": "code",
   "execution_count": 4,
   "outputs": [],
   "source": [
    "def ask_user_recommendations():\n",
    "\n",
    "    with open('./data/more_than_100.bin', 'rb') as f:\n",
    "        more_than_100 = pickle.load(f)\n",
    "\n",
    "    counter = 0\n",
    "    user_ratings = {}\n",
    "    films = []\n",
    "\n",
    "    while counter < 5:\n",
    "        film = random.choice(more_than_100.keys())\n",
    "        if film not in films:\n",
    "            films.append(film)\n",
    "            user_input = input(f\"What is your rating (0-5) of {film} (Press 'q' if you haven't seen it): \")\n",
    "            if user_input == \"q\":\n",
    "                pass\n",
    "            else:\n",
    "                user_ratings[film] = int(user_input)\n",
    "            counter += 1\n",
    "\n",
    "    return user_ratings\n",
    "\n",
    "\n",
    "def recommend_nmf(user_ratings, model, k=10):\n",
    "    \"\"\"Filters and recommends the top k movies\n",
    "    for any given input query based\n",
    "    on a trained NMF model.\n",
    "\n",
    "    Parameters\n",
    "    ----------\n",
    "    query : dict\n",
    "        A dictionary of movies already seen.\n",
    "        Takes the form {\"movie_A\": 3, \"movie_B\": 3} etc\n",
    "    model : pickle\n",
    "        pickle model read from disk\n",
    "    k : int, optional\n",
    "        no. of top movies to recommend, by default 10\n",
    "    \"\"\"\n",
    "\n",
    "    with open(f'./data/{model}', 'rb') as f:\n",
    "        nmf = pickle.load(f)\n",
    "\n",
    "    with open('./data/movie_dict.bin', 'rb') as f:\n",
    "        movie_id_dict = pickle.load(f)\n",
    "\n",
    "    movie_titles = [i for i in movie_id_dict]\n",
    "    movie_title_dict = {key: value for (value, key) in enumerate(movie_titles)}\n",
    "\n",
    "    # 1. candiate generation\n",
    "\n",
    "    # construct a user vector\n",
    "\n",
    "    base_rating = [np.nan] * len(movie_titles)\n",
    "\n",
    "    for key, value in user_ratings.items():\n",
    "        index = movie_title_dict[key]\n",
    "        base_rating[index] = value\n",
    "\n",
    "    user_rating_list = np.array(base_rating).reshape(1,-1)\n",
    "\n",
    "    # 2. scoring\n",
    "\n",
    "    user_dataframe = pd.DataFrame(user_rating_list, index=['Recommendation'], columns=movie_titles).fillna(0)\n",
    "\n",
    "    # calculate the score with the NMF model\n",
    "\n",
    "    P_new_user = nmf.transform(user_dataframe)\n",
    "    Q = nmf.components_\n",
    "\n",
    "    R_new_user = np.dot(P_new_user, Q)\n",
    "\n",
    "    user_dataframe = pd.DataFrame(R_new_user, index=['Recommendation'], columns=movie_titles)\n",
    "\n",
    "    unrated_boolean = np.isnan(user_rating_list)[0]\n",
    "\n",
    "    unrated_df = user_dataframe.iloc[:, unrated_boolean]\n",
    "\n",
    "    # return the top-k highst rated movie ids or titles\n",
    "\n",
    "    sorted_new_user_df = unrated_df.T.sort_values(by='Recommendation', ascending=False).head(k)\n",
    "\n",
    "    movie_ids = [movie_id_dict[i] for i in sorted_new_user_df.index]\n",
    "    movie_ids = pd.Series(movie_ids, index = sorted_new_user_df.index).to_frame(name=\"MovieId\")\n",
    "\n",
    "    final_recommendation = pd.concat([sorted_new_user_df, movie_ids], axis=1)\n",
    "\n",
    "    return final_recommendation.iloc[:,:1]"
   ],
   "metadata": {
    "collapsed": false
   }
  },
  {
   "cell_type": "code",
   "execution_count": 5,
   "outputs": [
    {
     "data": {
      "text/plain": "                                              Recommendation\nTalented Mr. Ripley, The (1999)                     0.030505\nI Still Know What You Did Last Summer (1998)        0.016190\nToys (1992)                                         0.015777\nPsycho (1960)                                       0.015382\nBeetlejuice (1988)                                  0.014970\nAirplane! (1980)                                    0.014585\nSpanish Prisoner, The (1997)                        0.014422\nIn the Name of the Father (1993)                    0.013636\nRocky Horror Picture Show, The (1975)               0.013347\nSleeper (1973)                                      0.012892",
      "text/html": "<div>\n<style scoped>\n    .dataframe tbody tr th:only-of-type {\n        vertical-align: middle;\n    }\n\n    .dataframe tbody tr th {\n        vertical-align: top;\n    }\n\n    .dataframe thead th {\n        text-align: right;\n    }\n</style>\n<table border=\"1\" class=\"dataframe\">\n  <thead>\n    <tr style=\"text-align: right;\">\n      <th></th>\n      <th>Recommendation</th>\n    </tr>\n  </thead>\n  <tbody>\n    <tr>\n      <th>Talented Mr. Ripley, The (1999)</th>\n      <td>0.030505</td>\n    </tr>\n    <tr>\n      <th>I Still Know What You Did Last Summer (1998)</th>\n      <td>0.016190</td>\n    </tr>\n    <tr>\n      <th>Toys (1992)</th>\n      <td>0.015777</td>\n    </tr>\n    <tr>\n      <th>Psycho (1960)</th>\n      <td>0.015382</td>\n    </tr>\n    <tr>\n      <th>Beetlejuice (1988)</th>\n      <td>0.014970</td>\n    </tr>\n    <tr>\n      <th>Airplane! (1980)</th>\n      <td>0.014585</td>\n    </tr>\n    <tr>\n      <th>Spanish Prisoner, The (1997)</th>\n      <td>0.014422</td>\n    </tr>\n    <tr>\n      <th>In the Name of the Father (1993)</th>\n      <td>0.013636</td>\n    </tr>\n    <tr>\n      <th>Rocky Horror Picture Show, The (1975)</th>\n      <td>0.013347</td>\n    </tr>\n    <tr>\n      <th>Sleeper (1973)</th>\n      <td>0.012892</td>\n    </tr>\n  </tbody>\n</table>\n</div>"
     },
     "execution_count": 5,
     "metadata": {},
     "output_type": "execute_result"
    }
   ],
   "source": [
    "user_rating =  ask_user_recommendations()\n",
    "table = recommend_nmf(user_rating, model=\"nmf.sav\")\n",
    "table"
   ],
   "metadata": {
    "collapsed": false
   }
  }
 ],
 "metadata": {
  "kernelspec": {
   "display_name": "Python 3",
   "language": "python",
   "name": "python3"
  },
  "language_info": {
   "codemirror_mode": {
    "name": "ipython",
    "version": 2
   },
   "file_extension": ".py",
   "mimetype": "text/x-python",
   "name": "python",
   "nbconvert_exporter": "python",
   "pygments_lexer": "ipython2",
   "version": "2.7.6"
  }
 },
 "nbformat": 4,
 "nbformat_minor": 0
}
