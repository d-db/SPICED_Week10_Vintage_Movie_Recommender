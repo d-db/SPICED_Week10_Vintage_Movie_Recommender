{
 "cells": [
  {
   "cell_type": "code",
   "execution_count": 1,
   "metadata": {
    "collapsed": true
   },
   "outputs": [],
   "source": [
    "import sys\n",
    "\n",
    "import pandas as pd\n",
    "import seaborn as sns\n",
    "import pickle\n",
    "import re"
   ]
  },
  {
   "cell_type": "code",
   "execution_count": 2,
   "outputs": [],
   "source": [
    "df = pd.read_csv(\"./data/ratings.csv\")"
   ],
   "metadata": {
    "collapsed": false
   }
  },
  {
   "cell_type": "code",
   "execution_count": 3,
   "outputs": [
    {
     "data": {
      "text/plain": "   userId  movieId  rating  timestamp\n0       1        1     4.0  964982703\n1       1        3     4.0  964981247\n2       1        6     4.0  964982224\n3       1       47     5.0  964983815\n4       1       50     5.0  964982931",
      "text/html": "<div>\n<style scoped>\n    .dataframe tbody tr th:only-of-type {\n        vertical-align: middle;\n    }\n\n    .dataframe tbody tr th {\n        vertical-align: top;\n    }\n\n    .dataframe thead th {\n        text-align: right;\n    }\n</style>\n<table border=\"1\" class=\"dataframe\">\n  <thead>\n    <tr style=\"text-align: right;\">\n      <th></th>\n      <th>userId</th>\n      <th>movieId</th>\n      <th>rating</th>\n      <th>timestamp</th>\n    </tr>\n  </thead>\n  <tbody>\n    <tr>\n      <th>0</th>\n      <td>1</td>\n      <td>1</td>\n      <td>4.0</td>\n      <td>964982703</td>\n    </tr>\n    <tr>\n      <th>1</th>\n      <td>1</td>\n      <td>3</td>\n      <td>4.0</td>\n      <td>964981247</td>\n    </tr>\n    <tr>\n      <th>2</th>\n      <td>1</td>\n      <td>6</td>\n      <td>4.0</td>\n      <td>964982224</td>\n    </tr>\n    <tr>\n      <th>3</th>\n      <td>1</td>\n      <td>47</td>\n      <td>5.0</td>\n      <td>964983815</td>\n    </tr>\n    <tr>\n      <th>4</th>\n      <td>1</td>\n      <td>50</td>\n      <td>5.0</td>\n      <td>964982931</td>\n    </tr>\n  </tbody>\n</table>\n</div>"
     },
     "execution_count": 3,
     "metadata": {},
     "output_type": "execute_result"
    }
   ],
   "source": [
    "df.head()"
   ],
   "metadata": {
    "collapsed": false
   }
  },
  {
   "cell_type": "code",
   "execution_count": 4,
   "outputs": [],
   "source": [
    "df_movie_names = pd.read_csv(\"./data/movies.csv\")"
   ],
   "metadata": {
    "collapsed": false
   }
  },
  {
   "cell_type": "code",
   "execution_count": 5,
   "outputs": [
    {
     "data": {
      "text/plain": "   movieId                               title  \\\n0        1                    Toy Story (1995)   \n1        2                      Jumanji (1995)   \n2        3             Grumpier Old Men (1995)   \n3        4            Waiting to Exhale (1995)   \n4        5  Father of the Bride Part II (1995)   \n\n                                        genres  \n0  Adventure|Animation|Children|Comedy|Fantasy  \n1                   Adventure|Children|Fantasy  \n2                               Comedy|Romance  \n3                         Comedy|Drama|Romance  \n4                                       Comedy  ",
      "text/html": "<div>\n<style scoped>\n    .dataframe tbody tr th:only-of-type {\n        vertical-align: middle;\n    }\n\n    .dataframe tbody tr th {\n        vertical-align: top;\n    }\n\n    .dataframe thead th {\n        text-align: right;\n    }\n</style>\n<table border=\"1\" class=\"dataframe\">\n  <thead>\n    <tr style=\"text-align: right;\">\n      <th></th>\n      <th>movieId</th>\n      <th>title</th>\n      <th>genres</th>\n    </tr>\n  </thead>\n  <tbody>\n    <tr>\n      <th>0</th>\n      <td>1</td>\n      <td>Toy Story (1995)</td>\n      <td>Adventure|Animation|Children|Comedy|Fantasy</td>\n    </tr>\n    <tr>\n      <th>1</th>\n      <td>2</td>\n      <td>Jumanji (1995)</td>\n      <td>Adventure|Children|Fantasy</td>\n    </tr>\n    <tr>\n      <th>2</th>\n      <td>3</td>\n      <td>Grumpier Old Men (1995)</td>\n      <td>Comedy|Romance</td>\n    </tr>\n    <tr>\n      <th>3</th>\n      <td>4</td>\n      <td>Waiting to Exhale (1995)</td>\n      <td>Comedy|Drama|Romance</td>\n    </tr>\n    <tr>\n      <th>4</th>\n      <td>5</td>\n      <td>Father of the Bride Part II (1995)</td>\n      <td>Comedy</td>\n    </tr>\n  </tbody>\n</table>\n</div>"
     },
     "execution_count": 5,
     "metadata": {},
     "output_type": "execute_result"
    }
   ],
   "source": [
    "df_movie_names.head()"
   ],
   "metadata": {
    "collapsed": false
   }
  },
  {
   "cell_type": "code",
   "execution_count": 6,
   "outputs": [],
   "source": [
    "df = pd.merge(df, df_movie_names, on='movieId')"
   ],
   "metadata": {
    "collapsed": false
   }
  },
  {
   "cell_type": "code",
   "execution_count": 7,
   "outputs": [
    {
     "data": {
      "text/plain": "   userId  movieId  rating             title  \\\n0       1        1     4.0  Toy Story (1995)   \n1       5        1     4.0  Toy Story (1995)   \n2       7        1     4.5  Toy Story (1995)   \n3      15        1     2.5  Toy Story (1995)   \n4      17        1     4.5  Toy Story (1995)   \n\n                                        genres  \n0  Adventure|Animation|Children|Comedy|Fantasy  \n1  Adventure|Animation|Children|Comedy|Fantasy  \n2  Adventure|Animation|Children|Comedy|Fantasy  \n3  Adventure|Animation|Children|Comedy|Fantasy  \n4  Adventure|Animation|Children|Comedy|Fantasy  ",
      "text/html": "<div>\n<style scoped>\n    .dataframe tbody tr th:only-of-type {\n        vertical-align: middle;\n    }\n\n    .dataframe tbody tr th {\n        vertical-align: top;\n    }\n\n    .dataframe thead th {\n        text-align: right;\n    }\n</style>\n<table border=\"1\" class=\"dataframe\">\n  <thead>\n    <tr style=\"text-align: right;\">\n      <th></th>\n      <th>userId</th>\n      <th>movieId</th>\n      <th>rating</th>\n      <th>title</th>\n      <th>genres</th>\n    </tr>\n  </thead>\n  <tbody>\n    <tr>\n      <th>0</th>\n      <td>1</td>\n      <td>1</td>\n      <td>4.0</td>\n      <td>Toy Story (1995)</td>\n      <td>Adventure|Animation|Children|Comedy|Fantasy</td>\n    </tr>\n    <tr>\n      <th>1</th>\n      <td>5</td>\n      <td>1</td>\n      <td>4.0</td>\n      <td>Toy Story (1995)</td>\n      <td>Adventure|Animation|Children|Comedy|Fantasy</td>\n    </tr>\n    <tr>\n      <th>2</th>\n      <td>7</td>\n      <td>1</td>\n      <td>4.5</td>\n      <td>Toy Story (1995)</td>\n      <td>Adventure|Animation|Children|Comedy|Fantasy</td>\n    </tr>\n    <tr>\n      <th>3</th>\n      <td>15</td>\n      <td>1</td>\n      <td>2.5</td>\n      <td>Toy Story (1995)</td>\n      <td>Adventure|Animation|Children|Comedy|Fantasy</td>\n    </tr>\n    <tr>\n      <th>4</th>\n      <td>17</td>\n      <td>1</td>\n      <td>4.5</td>\n      <td>Toy Story (1995)</td>\n      <td>Adventure|Animation|Children|Comedy|Fantasy</td>\n    </tr>\n  </tbody>\n</table>\n</div>"
     },
     "execution_count": 7,
     "metadata": {},
     "output_type": "execute_result"
    }
   ],
   "source": [
    "df.drop(\"timestamp\", axis=1, inplace=True)\n",
    "df.head()"
   ],
   "metadata": {
    "collapsed": false
   }
  },
  {
   "cell_type": "code",
   "execution_count": 8,
   "outputs": [
    {
     "data": {
      "text/plain": "(100836, 5)"
     },
     "execution_count": 8,
     "metadata": {},
     "output_type": "execute_result"
    }
   ],
   "source": [
    "df.shape"
   ],
   "metadata": {
    "collapsed": false
   }
  },
  {
   "cell_type": "code",
   "execution_count": 9,
   "outputs": [
    {
     "data": {
      "text/plain": "              userId        movieId         rating\ncount  100836.000000  100836.000000  100836.000000\nmean      326.127564   19435.295718       3.501557\nstd       182.618491   35530.987199       1.042529\nmin         1.000000       1.000000       0.500000\n25%       177.000000    1199.000000       3.000000\n50%       325.000000    2991.000000       3.500000\n75%       477.000000    8122.000000       4.000000\nmax       610.000000  193609.000000       5.000000",
      "text/html": "<div>\n<style scoped>\n    .dataframe tbody tr th:only-of-type {\n        vertical-align: middle;\n    }\n\n    .dataframe tbody tr th {\n        vertical-align: top;\n    }\n\n    .dataframe thead th {\n        text-align: right;\n    }\n</style>\n<table border=\"1\" class=\"dataframe\">\n  <thead>\n    <tr style=\"text-align: right;\">\n      <th></th>\n      <th>userId</th>\n      <th>movieId</th>\n      <th>rating</th>\n    </tr>\n  </thead>\n  <tbody>\n    <tr>\n      <th>count</th>\n      <td>100836.000000</td>\n      <td>100836.000000</td>\n      <td>100836.000000</td>\n    </tr>\n    <tr>\n      <th>mean</th>\n      <td>326.127564</td>\n      <td>19435.295718</td>\n      <td>3.501557</td>\n    </tr>\n    <tr>\n      <th>std</th>\n      <td>182.618491</td>\n      <td>35530.987199</td>\n      <td>1.042529</td>\n    </tr>\n    <tr>\n      <th>min</th>\n      <td>1.000000</td>\n      <td>1.000000</td>\n      <td>0.500000</td>\n    </tr>\n    <tr>\n      <th>25%</th>\n      <td>177.000000</td>\n      <td>1199.000000</td>\n      <td>3.000000</td>\n    </tr>\n    <tr>\n      <th>50%</th>\n      <td>325.000000</td>\n      <td>2991.000000</td>\n      <td>3.500000</td>\n    </tr>\n    <tr>\n      <th>75%</th>\n      <td>477.000000</td>\n      <td>8122.000000</td>\n      <td>4.000000</td>\n    </tr>\n    <tr>\n      <th>max</th>\n      <td>610.000000</td>\n      <td>193609.000000</td>\n      <td>5.000000</td>\n    </tr>\n  </tbody>\n</table>\n</div>"
     },
     "execution_count": 9,
     "metadata": {},
     "output_type": "execute_result"
    }
   ],
   "source": [
    "df.describe()"
   ],
   "metadata": {
    "collapsed": false
   }
  },
  {
   "cell_type": "code",
   "execution_count": 10,
   "outputs": [
    {
     "data": {
      "text/plain": "userId      610\nmovieId    9724\nrating       10\ntitle      9719\ngenres      951\ndtype: int64"
     },
     "execution_count": 10,
     "metadata": {},
     "output_type": "execute_result"
    }
   ],
   "source": [
    "df.nunique()"
   ],
   "metadata": {
    "collapsed": false
   }
  },
  {
   "cell_type": "markdown",
   "source": [
    "**Observation:** There are five more movieIds then titles -> How is that possible?"
   ],
   "metadata": {
    "collapsed": false
   }
  },
  {
   "cell_type": "code",
   "execution_count": 11,
   "outputs": [
    {
     "data": {
      "text/plain": "9724"
     },
     "execution_count": 11,
     "metadata": {},
     "output_type": "execute_result"
    }
   ],
   "source": [
    "# Create a list of duplicates\n",
    "title = df.groupby(\"movieId\")[\"title\"].max()\n",
    "filter = title.duplicated(keep='first') == True\n",
    "len(title)"
   ],
   "metadata": {
    "collapsed": false
   }
  },
  {
   "cell_type": "code",
   "execution_count": 12,
   "outputs": [
    {
     "data": {
      "text/plain": "movieId\n26958                                Emma (1996)\n64997                   War of the Worlds (2005)\n144606    Confessions of a Dangerous Mind (2002)\n147002                               Eros (2004)\n168358                           Saturn 3 (1980)\nName: title, dtype: object"
     },
     "execution_count": 12,
     "metadata": {},
     "output_type": "execute_result"
    }
   ],
   "source": [
    "duplicates = title[filter]\n",
    "duplicates"
   ],
   "metadata": {
    "collapsed": false
   }
  },
  {
   "cell_type": "code",
   "execution_count": 13,
   "outputs": [],
   "source": [
    "# Delete duplicates\n",
    "for i in range(len(duplicates.index)):\n",
    "    delete_index = duplicates.index[i]\n",
    "    df = df[df[\"movieId\"] != delete_index]"
   ],
   "metadata": {
    "collapsed": false
   }
  },
  {
   "cell_type": "code",
   "execution_count": 14,
   "outputs": [
    {
     "data": {
      "text/plain": "15.932786885245902"
     },
     "execution_count": 14,
     "metadata": {},
     "output_type": "execute_result"
    }
   ],
   "source": [
    "# How many movies did the average user rate?\n",
    "df.nunique()[1]/df.nunique()[0]"
   ],
   "metadata": {
    "collapsed": false
   }
  },
  {
   "cell_type": "markdown",
   "source": [
    "**Observation:** On average each user rated 16 movies"
   ],
   "metadata": {
    "collapsed": false
   }
  },
  {
   "cell_type": "code",
   "execution_count": 15,
   "outputs": [
    {
     "data": {
      "text/plain": "   userId  movieId  rating             title  \\\n0       1        1     4.0  Toy Story (1995)   \n1       5        1     4.0  Toy Story (1995)   \n2       7        1     4.5  Toy Story (1995)   \n3      15        1     2.5  Toy Story (1995)   \n4      17        1     4.5  Toy Story (1995)   \n\n                                        genres  \n0  Adventure|Animation|Children|Comedy|Fantasy  \n1  Adventure|Animation|Children|Comedy|Fantasy  \n2  Adventure|Animation|Children|Comedy|Fantasy  \n3  Adventure|Animation|Children|Comedy|Fantasy  \n4  Adventure|Animation|Children|Comedy|Fantasy  ",
      "text/html": "<div>\n<style scoped>\n    .dataframe tbody tr th:only-of-type {\n        vertical-align: middle;\n    }\n\n    .dataframe tbody tr th {\n        vertical-align: top;\n    }\n\n    .dataframe thead th {\n        text-align: right;\n    }\n</style>\n<table border=\"1\" class=\"dataframe\">\n  <thead>\n    <tr style=\"text-align: right;\">\n      <th></th>\n      <th>userId</th>\n      <th>movieId</th>\n      <th>rating</th>\n      <th>title</th>\n      <th>genres</th>\n    </tr>\n  </thead>\n  <tbody>\n    <tr>\n      <th>0</th>\n      <td>1</td>\n      <td>1</td>\n      <td>4.0</td>\n      <td>Toy Story (1995)</td>\n      <td>Adventure|Animation|Children|Comedy|Fantasy</td>\n    </tr>\n    <tr>\n      <th>1</th>\n      <td>5</td>\n      <td>1</td>\n      <td>4.0</td>\n      <td>Toy Story (1995)</td>\n      <td>Adventure|Animation|Children|Comedy|Fantasy</td>\n    </tr>\n    <tr>\n      <th>2</th>\n      <td>7</td>\n      <td>1</td>\n      <td>4.5</td>\n      <td>Toy Story (1995)</td>\n      <td>Adventure|Animation|Children|Comedy|Fantasy</td>\n    </tr>\n    <tr>\n      <th>3</th>\n      <td>15</td>\n      <td>1</td>\n      <td>2.5</td>\n      <td>Toy Story (1995)</td>\n      <td>Adventure|Animation|Children|Comedy|Fantasy</td>\n    </tr>\n    <tr>\n      <th>4</th>\n      <td>17</td>\n      <td>1</td>\n      <td>4.5</td>\n      <td>Toy Story (1995)</td>\n      <td>Adventure|Animation|Children|Comedy|Fantasy</td>\n    </tr>\n  </tbody>\n</table>\n</div>"
     },
     "execution_count": 15,
     "metadata": {},
     "output_type": "execute_result"
    }
   ],
   "source": [
    "df.head()"
   ],
   "metadata": {
    "collapsed": false
   }
  },
  {
   "cell_type": "code",
   "execution_count": 16,
   "outputs": [],
   "source": [
    "df[\"year\"] = df['title'].str.extract(r'\\((\\d{4})\\)$')\n",
    "df[\"year\"] = df[\"year\"].astype(float)"
   ],
   "metadata": {
    "collapsed": false
   }
  },
  {
   "cell_type": "code",
   "execution_count": 17,
   "outputs": [],
   "source": [
    "df = df[df[\"year\"] < 2000]"
   ],
   "metadata": {
    "collapsed": false
   }
  },
  {
   "cell_type": "code",
   "execution_count": 18,
   "outputs": [
    {
     "name": "stderr",
     "output_type": "stream",
     "text": [
      "/var/folders/tr/90xr4qzn78v1dd60234t4jxr0000gn/T/ipykernel_89802/3946378199.py:14: FutureWarning: Not prepending group keys to the result index of transform-like apply. In the future, the group keys will be included in the index, regardless of whether the applied function returns a like-indexed object.\n",
      "To preserve the previous behavior, use\n",
      "\n",
      "\t>>> .groupby(..., group_keys=False)\n",
      "\n",
      "To adopt the future behavior and silence this warning, use \n",
      "\n",
      "\t>>> .groupby(..., group_keys=True)\n",
      "  df = df.groupby(\"title\").apply(split_genre)\n"
     ]
    }
   ],
   "source": [
    "# Create columns for each genre\n",
    "def split_genre(group):\n",
    "\n",
    "    # set all cost values to the mean\n",
    "    genres = group[\"genres\"].str.split(\"|\")\n",
    "\n",
    "    for genre in genres:\n",
    "        for i, j in enumerate(genre):\n",
    "            column_name = \"genre_\" + str(i)\n",
    "            group[column_name] = j\n",
    "\n",
    "    return group\n",
    "\n",
    "df = df.groupby(\"title\").apply(split_genre)"
   ],
   "metadata": {
    "collapsed": false
   }
  },
  {
   "cell_type": "code",
   "execution_count": 19,
   "outputs": [
    {
     "data": {
      "text/plain": "(61559, 14)"
     },
     "execution_count": 19,
     "metadata": {},
     "output_type": "execute_result"
    }
   ],
   "source": [
    "df.shape"
   ],
   "metadata": {
    "collapsed": false
   }
  },
  {
   "cell_type": "code",
   "execution_count": 20,
   "outputs": [
    {
     "data": {
      "text/plain": "   userId  movieId  rating             title  \\\n0       1        1     4.0  Toy Story (1995)   \n1       5        1     4.0  Toy Story (1995)   \n2       7        1     4.5  Toy Story (1995)   \n3      15        1     2.5  Toy Story (1995)   \n4      17        1     4.5  Toy Story (1995)   \n\n                                        genres    year    genre_0    genre_1  \\\n0  Adventure|Animation|Children|Comedy|Fantasy  1995.0  Adventure  Animation   \n1  Adventure|Animation|Children|Comedy|Fantasy  1995.0  Adventure  Animation   \n2  Adventure|Animation|Children|Comedy|Fantasy  1995.0  Adventure  Animation   \n3  Adventure|Animation|Children|Comedy|Fantasy  1995.0  Adventure  Animation   \n4  Adventure|Animation|Children|Comedy|Fantasy  1995.0  Adventure  Animation   \n\n    genre_2 genre_3  genre_4 genre_5 genre_6 genre_7  \n0  Children  Comedy  Fantasy     NaN     NaN     NaN  \n1  Children  Comedy  Fantasy     NaN     NaN     NaN  \n2  Children  Comedy  Fantasy     NaN     NaN     NaN  \n3  Children  Comedy  Fantasy     NaN     NaN     NaN  \n4  Children  Comedy  Fantasy     NaN     NaN     NaN  ",
      "text/html": "<div>\n<style scoped>\n    .dataframe tbody tr th:only-of-type {\n        vertical-align: middle;\n    }\n\n    .dataframe tbody tr th {\n        vertical-align: top;\n    }\n\n    .dataframe thead th {\n        text-align: right;\n    }\n</style>\n<table border=\"1\" class=\"dataframe\">\n  <thead>\n    <tr style=\"text-align: right;\">\n      <th></th>\n      <th>userId</th>\n      <th>movieId</th>\n      <th>rating</th>\n      <th>title</th>\n      <th>genres</th>\n      <th>year</th>\n      <th>genre_0</th>\n      <th>genre_1</th>\n      <th>genre_2</th>\n      <th>genre_3</th>\n      <th>genre_4</th>\n      <th>genre_5</th>\n      <th>genre_6</th>\n      <th>genre_7</th>\n    </tr>\n  </thead>\n  <tbody>\n    <tr>\n      <th>0</th>\n      <td>1</td>\n      <td>1</td>\n      <td>4.0</td>\n      <td>Toy Story (1995)</td>\n      <td>Adventure|Animation|Children|Comedy|Fantasy</td>\n      <td>1995.0</td>\n      <td>Adventure</td>\n      <td>Animation</td>\n      <td>Children</td>\n      <td>Comedy</td>\n      <td>Fantasy</td>\n      <td>NaN</td>\n      <td>NaN</td>\n      <td>NaN</td>\n    </tr>\n    <tr>\n      <th>1</th>\n      <td>5</td>\n      <td>1</td>\n      <td>4.0</td>\n      <td>Toy Story (1995)</td>\n      <td>Adventure|Animation|Children|Comedy|Fantasy</td>\n      <td>1995.0</td>\n      <td>Adventure</td>\n      <td>Animation</td>\n      <td>Children</td>\n      <td>Comedy</td>\n      <td>Fantasy</td>\n      <td>NaN</td>\n      <td>NaN</td>\n      <td>NaN</td>\n    </tr>\n    <tr>\n      <th>2</th>\n      <td>7</td>\n      <td>1</td>\n      <td>4.5</td>\n      <td>Toy Story (1995)</td>\n      <td>Adventure|Animation|Children|Comedy|Fantasy</td>\n      <td>1995.0</td>\n      <td>Adventure</td>\n      <td>Animation</td>\n      <td>Children</td>\n      <td>Comedy</td>\n      <td>Fantasy</td>\n      <td>NaN</td>\n      <td>NaN</td>\n      <td>NaN</td>\n    </tr>\n    <tr>\n      <th>3</th>\n      <td>15</td>\n      <td>1</td>\n      <td>2.5</td>\n      <td>Toy Story (1995)</td>\n      <td>Adventure|Animation|Children|Comedy|Fantasy</td>\n      <td>1995.0</td>\n      <td>Adventure</td>\n      <td>Animation</td>\n      <td>Children</td>\n      <td>Comedy</td>\n      <td>Fantasy</td>\n      <td>NaN</td>\n      <td>NaN</td>\n      <td>NaN</td>\n    </tr>\n    <tr>\n      <th>4</th>\n      <td>17</td>\n      <td>1</td>\n      <td>4.5</td>\n      <td>Toy Story (1995)</td>\n      <td>Adventure|Animation|Children|Comedy|Fantasy</td>\n      <td>1995.0</td>\n      <td>Adventure</td>\n      <td>Animation</td>\n      <td>Children</td>\n      <td>Comedy</td>\n      <td>Fantasy</td>\n      <td>NaN</td>\n      <td>NaN</td>\n      <td>NaN</td>\n    </tr>\n  </tbody>\n</table>\n</div>"
     },
     "execution_count": 20,
     "metadata": {},
     "output_type": "execute_result"
    }
   ],
   "source": [
    "df.head()"
   ],
   "metadata": {
    "collapsed": false
   }
  },
  {
   "cell_type": "code",
   "execution_count": 21,
   "outputs": [
    {
     "data": {
      "text/plain": "        userId  movieId  rating                                     title  \\\n0            1        1     4.0                          Toy Story (1995)   \n1            5        1     4.0                          Toy Story (1995)   \n2            7        1     4.5                          Toy Story (1995)   \n3           15        1     2.5                          Toy Story (1995)   \n4           17        1     4.5                          Toy Story (1995)   \n...        ...      ...     ...                                       ...   \n100825     610   147657     4.0                    Masked Avengers (1981)   \n100826     610   147662     3.0  Return of the One-Armed Swordsman (1969)   \n100830     610   158721     3.5                         Gen-X Cops (1999)   \n100831     610   160341     2.5                          Bloodmoon (1997)   \n100832     610   160527     4.5          Sympathy for the Underdog (1971)   \n\n          year    genre_0    genre_1   genre_2 genre_3  genre_4 genre_5  \\\n0       1995.0  Adventure  Animation  Children  Comedy  Fantasy     NaN   \n1       1995.0  Adventure  Animation  Children  Comedy  Fantasy     NaN   \n2       1995.0  Adventure  Animation  Children  Comedy  Fantasy     NaN   \n3       1995.0  Adventure  Animation  Children  Comedy  Fantasy     NaN   \n4       1995.0  Adventure  Animation  Children  Comedy  Fantasy     NaN   \n...        ...        ...        ...       ...     ...      ...     ...   \n100825  1981.0     Action        NaN       NaN     NaN      NaN     NaN   \n100826  1969.0     Action  Adventure       NaN     NaN      NaN     NaN   \n100830  1999.0     Action     Comedy  Thriller     NaN      NaN     NaN   \n100831  1997.0     Action   Thriller       NaN     NaN      NaN     NaN   \n100832  1971.0     Action      Crime     Drama     NaN      NaN     NaN   \n\n       genre_6 genre_7  \n0          NaN     NaN  \n1          NaN     NaN  \n2          NaN     NaN  \n3          NaN     NaN  \n4          NaN     NaN  \n...        ...     ...  \n100825     NaN     NaN  \n100826     NaN     NaN  \n100830     NaN     NaN  \n100831     NaN     NaN  \n100832     NaN     NaN  \n\n[61559 rows x 13 columns]",
      "text/html": "<div>\n<style scoped>\n    .dataframe tbody tr th:only-of-type {\n        vertical-align: middle;\n    }\n\n    .dataframe tbody tr th {\n        vertical-align: top;\n    }\n\n    .dataframe thead th {\n        text-align: right;\n    }\n</style>\n<table border=\"1\" class=\"dataframe\">\n  <thead>\n    <tr style=\"text-align: right;\">\n      <th></th>\n      <th>userId</th>\n      <th>movieId</th>\n      <th>rating</th>\n      <th>title</th>\n      <th>year</th>\n      <th>genre_0</th>\n      <th>genre_1</th>\n      <th>genre_2</th>\n      <th>genre_3</th>\n      <th>genre_4</th>\n      <th>genre_5</th>\n      <th>genre_6</th>\n      <th>genre_7</th>\n    </tr>\n  </thead>\n  <tbody>\n    <tr>\n      <th>0</th>\n      <td>1</td>\n      <td>1</td>\n      <td>4.0</td>\n      <td>Toy Story (1995)</td>\n      <td>1995.0</td>\n      <td>Adventure</td>\n      <td>Animation</td>\n      <td>Children</td>\n      <td>Comedy</td>\n      <td>Fantasy</td>\n      <td>NaN</td>\n      <td>NaN</td>\n      <td>NaN</td>\n    </tr>\n    <tr>\n      <th>1</th>\n      <td>5</td>\n      <td>1</td>\n      <td>4.0</td>\n      <td>Toy Story (1995)</td>\n      <td>1995.0</td>\n      <td>Adventure</td>\n      <td>Animation</td>\n      <td>Children</td>\n      <td>Comedy</td>\n      <td>Fantasy</td>\n      <td>NaN</td>\n      <td>NaN</td>\n      <td>NaN</td>\n    </tr>\n    <tr>\n      <th>2</th>\n      <td>7</td>\n      <td>1</td>\n      <td>4.5</td>\n      <td>Toy Story (1995)</td>\n      <td>1995.0</td>\n      <td>Adventure</td>\n      <td>Animation</td>\n      <td>Children</td>\n      <td>Comedy</td>\n      <td>Fantasy</td>\n      <td>NaN</td>\n      <td>NaN</td>\n      <td>NaN</td>\n    </tr>\n    <tr>\n      <th>3</th>\n      <td>15</td>\n      <td>1</td>\n      <td>2.5</td>\n      <td>Toy Story (1995)</td>\n      <td>1995.0</td>\n      <td>Adventure</td>\n      <td>Animation</td>\n      <td>Children</td>\n      <td>Comedy</td>\n      <td>Fantasy</td>\n      <td>NaN</td>\n      <td>NaN</td>\n      <td>NaN</td>\n    </tr>\n    <tr>\n      <th>4</th>\n      <td>17</td>\n      <td>1</td>\n      <td>4.5</td>\n      <td>Toy Story (1995)</td>\n      <td>1995.0</td>\n      <td>Adventure</td>\n      <td>Animation</td>\n      <td>Children</td>\n      <td>Comedy</td>\n      <td>Fantasy</td>\n      <td>NaN</td>\n      <td>NaN</td>\n      <td>NaN</td>\n    </tr>\n    <tr>\n      <th>...</th>\n      <td>...</td>\n      <td>...</td>\n      <td>...</td>\n      <td>...</td>\n      <td>...</td>\n      <td>...</td>\n      <td>...</td>\n      <td>...</td>\n      <td>...</td>\n      <td>...</td>\n      <td>...</td>\n      <td>...</td>\n      <td>...</td>\n    </tr>\n    <tr>\n      <th>100825</th>\n      <td>610</td>\n      <td>147657</td>\n      <td>4.0</td>\n      <td>Masked Avengers (1981)</td>\n      <td>1981.0</td>\n      <td>Action</td>\n      <td>NaN</td>\n      <td>NaN</td>\n      <td>NaN</td>\n      <td>NaN</td>\n      <td>NaN</td>\n      <td>NaN</td>\n      <td>NaN</td>\n    </tr>\n    <tr>\n      <th>100826</th>\n      <td>610</td>\n      <td>147662</td>\n      <td>3.0</td>\n      <td>Return of the One-Armed Swordsman (1969)</td>\n      <td>1969.0</td>\n      <td>Action</td>\n      <td>Adventure</td>\n      <td>NaN</td>\n      <td>NaN</td>\n      <td>NaN</td>\n      <td>NaN</td>\n      <td>NaN</td>\n      <td>NaN</td>\n    </tr>\n    <tr>\n      <th>100830</th>\n      <td>610</td>\n      <td>158721</td>\n      <td>3.5</td>\n      <td>Gen-X Cops (1999)</td>\n      <td>1999.0</td>\n      <td>Action</td>\n      <td>Comedy</td>\n      <td>Thriller</td>\n      <td>NaN</td>\n      <td>NaN</td>\n      <td>NaN</td>\n      <td>NaN</td>\n      <td>NaN</td>\n    </tr>\n    <tr>\n      <th>100831</th>\n      <td>610</td>\n      <td>160341</td>\n      <td>2.5</td>\n      <td>Bloodmoon (1997)</td>\n      <td>1997.0</td>\n      <td>Action</td>\n      <td>Thriller</td>\n      <td>NaN</td>\n      <td>NaN</td>\n      <td>NaN</td>\n      <td>NaN</td>\n      <td>NaN</td>\n      <td>NaN</td>\n    </tr>\n    <tr>\n      <th>100832</th>\n      <td>610</td>\n      <td>160527</td>\n      <td>4.5</td>\n      <td>Sympathy for the Underdog (1971)</td>\n      <td>1971.0</td>\n      <td>Action</td>\n      <td>Crime</td>\n      <td>Drama</td>\n      <td>NaN</td>\n      <td>NaN</td>\n      <td>NaN</td>\n      <td>NaN</td>\n      <td>NaN</td>\n    </tr>\n  </tbody>\n</table>\n<p>61559 rows × 13 columns</p>\n</div>"
     },
     "execution_count": 21,
     "metadata": {},
     "output_type": "execute_result"
    }
   ],
   "source": [
    "df.drop(\"genres\", axis=1, inplace=True)\n",
    "df"
   ],
   "metadata": {
    "collapsed": false
   }
  },
  {
   "cell_type": "code",
   "execution_count": 22,
   "outputs": [],
   "source": [
    "title = df.groupby(\"movieId\")[\"title\"].max()"
   ],
   "metadata": {
    "collapsed": false
   }
  },
  {
   "cell_type": "code",
   "execution_count": 23,
   "outputs": [],
   "source": [
    "# Create a dict with movie title and movieId\n",
    "movie_dict = {key: value for (key, value) in zip(title, title.index)}"
   ],
   "metadata": {
    "collapsed": false
   }
  },
  {
   "cell_type": "markdown",
   "source": [
    "## 1. Calculate the average rating for each movie in the dataset"
   ],
   "metadata": {
    "collapsed": false
   }
  },
  {
   "cell_type": "code",
   "execution_count": 24,
   "outputs": [],
   "source": [
    "avg_rating = df.groupby(\"title\")[\"rating\"].mean()"
   ],
   "metadata": {
    "collapsed": false
   }
  },
  {
   "cell_type": "code",
   "execution_count": 25,
   "outputs": [
    {
     "data": {
      "text/plain": "title\nLady Jane (1986)                                                  5.0\nOscar (1967)                                                      5.0\nFive Senses, The (1999)                                           5.0\nAll the Vermeers in New York (1990)                               5.0\nWhen Worlds Collide (1951)                                        5.0\nMy Man Godfrey (1957)                                             5.0\nMystery of the Third Planet, The (Tayna tretey planety) (1981)    5.0\nObsession (1965)                                                  5.0\nWhat Happened Was... (1994)                                       5.0\nAmerican Friend, The (Amerikanische Freund, Der) (1977)           5.0\nName: rating, dtype: float64"
     },
     "execution_count": 25,
     "metadata": {},
     "output_type": "execute_result"
    }
   ],
   "source": [
    "# Top10 movies\n",
    "df.groupby(\"title\")[\"rating\"].mean().sort_values(ascending=False).head(10)"
   ],
   "metadata": {
    "collapsed": false
   }
  },
  {
   "cell_type": "code",
   "execution_count": 26,
   "outputs": [
    {
     "data": {
      "text/plain": "title\nOblivion 2: Backlash (1996)                   0.5\nMortal Kombat: The Journey Begins (1995)      0.5\nYongary: Monster from the Deep (1967)         0.5\nThe Star Wars Holiday Special (1978)          0.5\n3 Ninjas Knuckle Up (1995)                    0.5\nCarabineers, The (Carabiniers, Les) (1963)    0.5\nCyborg (1989)                                 0.5\nKiller Shrews, The (1959)                     0.5\nGeneral Died at Dawn, The (1936)              0.5\nMy Bloody Valentine (1981)                    0.5\nName: rating, dtype: float64"
     },
     "execution_count": 26,
     "metadata": {},
     "output_type": "execute_result"
    }
   ],
   "source": [
    "# Flop10 movies\n",
    "df.groupby(\"title\")[\"rating\"].mean().sort_values().head(10)"
   ],
   "metadata": {
    "collapsed": false
   }
  },
  {
   "cell_type": "code",
   "execution_count": 27,
   "outputs": [
    {
     "data": {
      "text/plain": "4.000000    545\n3.000000    479\n3.500000    409\n2.500000    217\n2.000000    215\n           ... \n4.151515      1\n2.851852      1\n3.340909      1\n4.164134      1\n3.992754      1\nName: rating, Length: 927, dtype: int64"
     },
     "execution_count": 27,
     "metadata": {},
     "output_type": "execute_result"
    }
   ],
   "source": [
    "avg_rating.value_counts()"
   ],
   "metadata": {
    "collapsed": false
   }
  },
  {
   "cell_type": "code",
   "execution_count": 28,
   "outputs": [
    {
     "data": {
      "text/plain": "<AxesSubplot:xlabel='rating', ylabel='Count'>"
     },
     "execution_count": 28,
     "metadata": {},
     "output_type": "execute_result"
    },
    {
     "data": {
      "text/plain": "<Figure size 640x480 with 1 Axes>",
      "image/png": "[encoded data removed]"
     },
     "metadata": {},
     "output_type": "display_data"
    }
   ],
   "source": [
    "sns.histplot(data=avg_rating.to_frame(), x=\"rating\", binwidth=0.5)"
   ],
   "metadata": {
    "collapsed": false
   }
  },
  {
   "cell_type": "markdown",
   "source": [
    "## 2. Filter out movies that have been watched by less than 20 users"
   ],
   "metadata": {
    "collapsed": false
   }
  },
  {
   "cell_type": "code",
   "execution_count": 29,
   "outputs": [
    {
     "data": {
      "text/plain": "4145"
     },
     "execution_count": 29,
     "metadata": {},
     "output_type": "execute_result"
    }
   ],
   "source": [
    "filter = df.groupby(\"title\")[\"userId\"].count() < 20\n",
    "less_than_20 = df.groupby(\"title\")[\"userId\"].count()[filter].sort_values()\n",
    "len(less_than_20)"
   ],
   "metadata": {
    "collapsed": false
   }
  },
  {
   "cell_type": "code",
   "execution_count": 30,
   "outputs": [
    {
     "data": {
      "text/plain": "'0.84% of the movies have been rated by less then 20 users'"
     },
     "execution_count": 30,
     "metadata": {},
     "output_type": "execute_result"
    }
   ],
   "source": [
    "f\"{round(len(less_than_20) / df.nunique()[3], 2)}% of the movies have been rated by less then 20 users\""
   ],
   "metadata": {
    "collapsed": false
   }
  },
  {
   "cell_type": "markdown",
   "source": [
    "## 3. Get a list of movies with more than 100 ratings"
   ],
   "metadata": {
    "collapsed": false
   }
  },
  {
   "cell_type": "code",
   "execution_count": 31,
   "outputs": [],
   "source": [
    "most_rated_movies = df.groupby(\"title\")[\"userId\"].count().sort_values(ascending=False)\n",
    "more_than_100 = most_rated_movies[most_rated_movies > 100]"
   ],
   "metadata": {
    "collapsed": false
   }
  },
  {
   "cell_type": "code",
   "execution_count": 32,
   "outputs": [],
   "source": [
    "with open('./data/full_df.bin', 'wb') as f:\n",
    "    pickle.dump(df, f)"
   ],
   "metadata": {
    "collapsed": false
   }
  },
  {
   "cell_type": "code",
   "execution_count": 33,
   "outputs": [],
   "source": [
    "with open('./data/movie_dict.bin', 'wb') as f:\n",
    "    pickle.dump(movie_dict, f)"
   ],
   "metadata": {
    "collapsed": false
   }
  },
  {
   "cell_type": "code",
   "execution_count": 34,
   "outputs": [],
   "source": [
    "with open('./data/more_than_100.bin', 'wb') as f:\n",
    "    pickle.dump(more_than_100, f)"
   ],
   "metadata": {
    "collapsed": false
   }
  }
 ],
 "metadata": {
  "kernelspec": {
   "display_name": "Python 3",
   "language": "python",
   "name": "python3"
  },
  "language_info": {
   "codemirror_mode": {
    "name": "ipython",
    "version": 2
   },
   "file_extension": ".py",
   "mimetype": "text/x-python",
   "name": "python",
   "nbconvert_exporter": "python",
   "pygments_lexer": "ipython2",
   "version": "2.7.6"
  }
 },
 "nbformat": 4,
 "nbformat_minor": 0
}
